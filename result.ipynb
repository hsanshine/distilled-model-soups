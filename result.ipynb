{
 "cells": [
  {
   "cell_type": "code",
   "execution_count": 2,
   "id": "4572b665",
   "metadata": {},
   "outputs": [],
   "source": [
    "import pandas as pd\n",
    "import json\n",
    "\n",
    "import os"
   ]
  },
  {
   "cell_type": "markdown",
   "id": "955084cf",
   "metadata": {},
   "source": [
    "# Teacher and Student Performance"
   ]
  },
  {
   "cell_type": "code",
   "execution_count": 3,
   "id": "bac2af47",
   "metadata": {},
   "outputs": [
    {
     "ename": "FileNotFoundError",
     "evalue": "[Errno 2] No such file or directory: './logs/teacher/teacher.json'",
     "output_type": "error",
     "traceback": [
      "\u001b[0;31m---------------------------------------------------------------------------\u001b[0m",
      "\u001b[0;31mFileNotFoundError\u001b[0m                         Traceback (most recent call last)",
      "\u001b[1;32m/home/academic/PycharmProjects/finals/keras2torch/Computer_Vision/Knowledge_Distillation/result.ipynb Cell 3'\u001b[0m in \u001b[0;36m<cell line: 1>\u001b[0;34m()\u001b[0m\n\u001b[0;32m----> <a href='vscode-notebook-cell:/home/academic/PycharmProjects/finals/keras2torch/Computer_Vision/Knowledge_Distillation/result.ipynb#ch0000002?line=0'>1</a>\u001b[0m teacher_f \u001b[39m=\u001b[39m json\u001b[39m.\u001b[39mload(\u001b[39mopen\u001b[39;49m(\u001b[39m'\u001b[39;49m\u001b[39m./logs/teacher/teacher.json\u001b[39;49m\u001b[39m'\u001b[39;49m,\u001b[39m'\u001b[39;49m\u001b[39mr\u001b[39;49m\u001b[39m'\u001b[39;49m))\n\u001b[1;32m      <a href='vscode-notebook-cell:/home/academic/PycharmProjects/finals/keras2torch/Computer_Vision/Knowledge_Distillation/result.ipynb#ch0000002?line=1'>2</a>\u001b[0m teacher_f[\u001b[39m'\u001b[39m\u001b[39mbest_acc\u001b[39m\u001b[39m'\u001b[39m]\n",
      "\u001b[0;31mFileNotFoundError\u001b[0m: [Errno 2] No such file or directory: './logs/teacher/teacher.json'"
     ]
    }
   ],
   "source": [
    "teacher_f = json.load(open('./logs/teacher/teacher.json','r'))\n",
    "teacher_f['best_acc']"
   ]
  },
  {
   "cell_type": "code",
   "execution_count": 31,
   "id": "c61db104",
   "metadata": {},
   "outputs": [
    {
     "data": {
      "text/plain": [
       "0.6128"
      ]
     },
     "execution_count": 31,
     "metadata": {},
     "output_type": "execute_result"
    }
   ],
   "source": [
    "student_f = json.load(open('./logs/student/student.json','r'))\n",
    "student_f['best_acc']"
   ]
  },
  {
   "cell_type": "markdown",
   "id": "a62f2b82",
   "metadata": {},
   "source": [
    "# Student Performance per Alpha and Temperature"
   ]
  },
  {
   "cell_type": "code",
   "execution_count": 49,
   "id": "11d806ba",
   "metadata": {},
   "outputs": [],
   "source": [
    "alpha_lst=\"0.1 0.25 0.5 0.75 0.9\".split(' ')\n",
    "temperature_lst=\"1.0 2.5 5.0 7.5 10\".split(' ')"
   ]
  },
  {
   "cell_type": "code",
   "execution_count": 50,
   "id": "f4f70e14",
   "metadata": {},
   "outputs": [],
   "source": [
    "def best_acc_per_method(method, alpha_lst, temperature_lst):\n",
    "    acc_lst = []\n",
    "    acc_per_alpha = []\n",
    "    for alpha in alpha_lst:\n",
    "        acc = []\n",
    "        for temp in temperature_lst:\n",
    "            try:\n",
    "                fname = os.path.join(f'./logs/simplecnn/{method}/KD_student_alpha{alpha}_temp{temp}/student.json')\n",
    "                f = json.load(open(fname,'r'))\n",
    "                acc.append(f['best_acc'])\n",
    "            except:\n",
    "                acc.append(0)\n",
    "        acc_per_alpha.append(acc)\n",
    "        \n",
    "    result = pd.DataFrame(acc_per_alpha,\n",
    "                          columns=[f'temperature{temp}' for temp in temperature_lst],\n",
    "                          index=[f'alpha{alpha}' for alpha in alpha_lst])\n",
    "\n",
    "    return result"
   ]
  },
  {
   "cell_type": "markdown",
   "id": "3da53b6d",
   "metadata": {},
   "source": [
    "# Simple CNN"
   ]
  },
  {
   "cell_type": "markdown",
   "id": "f1f0ff4d",
   "metadata": {},
   "source": [
    "## Method1"
   ]
  },
  {
   "cell_type": "code",
   "execution_count": 51,
   "id": "d0214bc9",
   "metadata": {},
   "outputs": [],
   "source": [
    "method1_result = best_acc_per_method(method='method1',\n",
    "                                     alpha_lst=alpha_lst,\n",
    "                                     temperature_lst=temperature_lst+[20, 30, 40, 50])"
   ]
  },
  {
   "cell_type": "code",
   "execution_count": 52,
   "id": "0f074bd0",
   "metadata": {},
   "outputs": [
    {
     "data": {
      "text/html": [
       "<div>\n",
       "<style scoped>\n",
       "    .dataframe tbody tr th:only-of-type {\n",
       "        vertical-align: middle;\n",
       "    }\n",
       "\n",
       "    .dataframe tbody tr th {\n",
       "        vertical-align: top;\n",
       "    }\n",
       "\n",
       "    .dataframe thead th {\n",
       "        text-align: right;\n",
       "    }\n",
       "</style>\n",
       "<table border=\"1\" class=\"dataframe\">\n",
       "  <thead>\n",
       "    <tr style=\"text-align: right;\">\n",
       "      <th></th>\n",
       "      <th>temperature1.0</th>\n",
       "      <th>temperature2.5</th>\n",
       "      <th>temperature5.0</th>\n",
       "      <th>temperature7.5</th>\n",
       "      <th>temperature10</th>\n",
       "      <th>temperature20</th>\n",
       "      <th>temperature30</th>\n",
       "      <th>temperature40</th>\n",
       "      <th>temperature50</th>\n",
       "    </tr>\n",
       "  </thead>\n",
       "  <tbody>\n",
       "    <tr>\n",
       "      <th>alpha0.1</th>\n",
       "      <td>0.6113</td>\n",
       "      <td>0.6117</td>\n",
       "      <td>0.6100</td>\n",
       "      <td>0.6121</td>\n",
       "      <td>0.6095</td>\n",
       "      <td>0.6127</td>\n",
       "      <td>0.6095</td>\n",
       "      <td>0.6096</td>\n",
       "      <td>0.6115</td>\n",
       "    </tr>\n",
       "    <tr>\n",
       "      <th>alpha0.25</th>\n",
       "      <td>0.6108</td>\n",
       "      <td>0.6086</td>\n",
       "      <td>0.6103</td>\n",
       "      <td>0.6187</td>\n",
       "      <td>0.6177</td>\n",
       "      <td>0.6226</td>\n",
       "      <td>0.6201</td>\n",
       "      <td>0.6213</td>\n",
       "      <td>0.6206</td>\n",
       "    </tr>\n",
       "    <tr>\n",
       "      <th>alpha0.5</th>\n",
       "      <td>0.6118</td>\n",
       "      <td>0.6198</td>\n",
       "      <td>0.6193</td>\n",
       "      <td>0.6205</td>\n",
       "      <td>0.6255</td>\n",
       "      <td>0.6238</td>\n",
       "      <td>0.6233</td>\n",
       "      <td>0.6245</td>\n",
       "      <td>0.6245</td>\n",
       "    </tr>\n",
       "    <tr>\n",
       "      <th>alpha0.75</th>\n",
       "      <td>0.6106</td>\n",
       "      <td>0.6227</td>\n",
       "      <td>0.6227</td>\n",
       "      <td>0.6215</td>\n",
       "      <td>0.6227</td>\n",
       "      <td>0.6214</td>\n",
       "      <td>0.6228</td>\n",
       "      <td>0.6205</td>\n",
       "      <td>0.6208</td>\n",
       "    </tr>\n",
       "    <tr>\n",
       "      <th>alpha0.9</th>\n",
       "      <td>0.6122</td>\n",
       "      <td>0.6194</td>\n",
       "      <td>0.6257</td>\n",
       "      <td>0.6218</td>\n",
       "      <td>0.6178</td>\n",
       "      <td>0.6150</td>\n",
       "      <td>0.6146</td>\n",
       "      <td>0.6136</td>\n",
       "      <td>0.6136</td>\n",
       "    </tr>\n",
       "  </tbody>\n",
       "</table>\n",
       "</div>"
      ],
      "text/plain": [
       "           temperature1.0  temperature2.5  temperature5.0  temperature7.5  \\\n",
       "alpha0.1           0.6113          0.6117          0.6100          0.6121   \n",
       "alpha0.25          0.6108          0.6086          0.6103          0.6187   \n",
       "alpha0.5           0.6118          0.6198          0.6193          0.6205   \n",
       "alpha0.75          0.6106          0.6227          0.6227          0.6215   \n",
       "alpha0.9           0.6122          0.6194          0.6257          0.6218   \n",
       "\n",
       "           temperature10  temperature20  temperature30  temperature40  \\\n",
       "alpha0.1          0.6095         0.6127         0.6095         0.6096   \n",
       "alpha0.25         0.6177         0.6226         0.6201         0.6213   \n",
       "alpha0.5          0.6255         0.6238         0.6233         0.6245   \n",
       "alpha0.75         0.6227         0.6214         0.6228         0.6205   \n",
       "alpha0.9          0.6178         0.6150         0.6146         0.6136   \n",
       "\n",
       "           temperature50  \n",
       "alpha0.1          0.6115  \n",
       "alpha0.25         0.6206  \n",
       "alpha0.5          0.6245  \n",
       "alpha0.75         0.6208  \n",
       "alpha0.9          0.6136  "
      ]
     },
     "execution_count": 52,
     "metadata": {},
     "output_type": "execute_result"
    }
   ],
   "source": [
    "method1_result"
   ]
  },
  {
   "cell_type": "markdown",
   "id": "18edab73",
   "metadata": {},
   "source": [
    "### scheduler"
   ]
  },
  {
   "cell_type": "code",
   "execution_count": 93,
   "id": "606aacba",
   "metadata": {},
   "outputs": [],
   "source": [
    "alpha_lst = [0.5, 0.9]\n",
    "temp_lst = [10.0, 5.0]\n",
    "acc = []\n",
    "for i in range(len(alpha_lst)):\n",
    "    fname = os.path.join(f'./logs/simplecnn/method1/KD_student_alpha{alpha_lst[i]}_temp{temp_lst[i]}_scheduler/student.json')\n",
    "    f = json.load(open(fname,'r'))\n",
    "    acc.append(f['best_acc'])"
   ]
  },
  {
   "cell_type": "code",
   "execution_count": 94,
   "id": "6c7d731c",
   "metadata": {},
   "outputs": [
    {
     "data": {
      "text/html": [
       "<div>\n",
       "<style scoped>\n",
       "    .dataframe tbody tr th:only-of-type {\n",
       "        vertical-align: middle;\n",
       "    }\n",
       "\n",
       "    .dataframe tbody tr th {\n",
       "        vertical-align: top;\n",
       "    }\n",
       "\n",
       "    .dataframe thead th {\n",
       "        text-align: right;\n",
       "    }\n",
       "</style>\n",
       "<table border=\"1\" class=\"dataframe\">\n",
       "  <thead>\n",
       "    <tr style=\"text-align: right;\">\n",
       "      <th></th>\n",
       "      <th>alpha0.5 temp10.0</th>\n",
       "      <th>alpha0.9 temp5.0</th>\n",
       "    </tr>\n",
       "  </thead>\n",
       "  <tbody>\n",
       "    <tr>\n",
       "      <th>simplecnn</th>\n",
       "      <td>0.5804</td>\n",
       "      <td>0.5748</td>\n",
       "    </tr>\n",
       "  </tbody>\n",
       "</table>\n",
       "</div>"
      ],
      "text/plain": [
       "           alpha0.5 temp10.0  alpha0.9 temp5.0\n",
       "simplecnn             0.5804            0.5748"
      ]
     },
     "execution_count": 94,
     "metadata": {},
     "output_type": "execute_result"
    }
   ],
   "source": [
    "pd.DataFrame(acc, columns=['simplecnn'], index=['alpha0.5 temp10.0', 'alpha0.9 temp5.0']).T"
   ]
  },
  {
   "cell_type": "markdown",
   "id": "c77ab62a",
   "metadata": {},
   "source": [
    "## Method2"
   ]
  },
  {
   "cell_type": "code",
   "execution_count": 77,
   "id": "8d0fb0e2",
   "metadata": {},
   "outputs": [],
   "source": [
    "alpha_lst=\"0.1 0.25 0.5 0.75 0.9\".split(' ')\n",
    "temperature_lst=\"1.0 2.5 5.0 7.5 10.0\".split(' ')"
   ]
  },
  {
   "cell_type": "code",
   "execution_count": 78,
   "id": "107780ab",
   "metadata": {},
   "outputs": [],
   "source": [
    "method2_result = best_acc_per_method(method='method2',\n",
    "                                     alpha_lst=alpha_lst,\n",
    "                                     temperature_lst=temperature_lst)"
   ]
  },
  {
   "cell_type": "code",
   "execution_count": 79,
   "id": "cd1ba937",
   "metadata": {},
   "outputs": [
    {
     "data": {
      "text/html": [
       "<div>\n",
       "<style scoped>\n",
       "    .dataframe tbody tr th:only-of-type {\n",
       "        vertical-align: middle;\n",
       "    }\n",
       "\n",
       "    .dataframe tbody tr th {\n",
       "        vertical-align: top;\n",
       "    }\n",
       "\n",
       "    .dataframe thead th {\n",
       "        text-align: right;\n",
       "    }\n",
       "</style>\n",
       "<table border=\"1\" class=\"dataframe\">\n",
       "  <thead>\n",
       "    <tr style=\"text-align: right;\">\n",
       "      <th></th>\n",
       "      <th>temperature1.0</th>\n",
       "      <th>temperature2.5</th>\n",
       "      <th>temperature5.0</th>\n",
       "      <th>temperature7.5</th>\n",
       "      <th>temperature10.0</th>\n",
       "    </tr>\n",
       "  </thead>\n",
       "  <tbody>\n",
       "    <tr>\n",
       "      <th>alpha0.1</th>\n",
       "      <td>0.6113</td>\n",
       "      <td>0.6080</td>\n",
       "      <td>0.6120</td>\n",
       "      <td>0.6111</td>\n",
       "      <td>0.6113</td>\n",
       "    </tr>\n",
       "    <tr>\n",
       "      <th>alpha0.25</th>\n",
       "      <td>0.6108</td>\n",
       "      <td>0.6126</td>\n",
       "      <td>0.6101</td>\n",
       "      <td>0.6141</td>\n",
       "      <td>0.6175</td>\n",
       "    </tr>\n",
       "    <tr>\n",
       "      <th>alpha0.5</th>\n",
       "      <td>0.6118</td>\n",
       "      <td>0.6097</td>\n",
       "      <td>0.6125</td>\n",
       "      <td>0.6242</td>\n",
       "      <td>0.6209</td>\n",
       "    </tr>\n",
       "    <tr>\n",
       "      <th>alpha0.75</th>\n",
       "      <td>0.6106</td>\n",
       "      <td>0.6101</td>\n",
       "      <td>0.6191</td>\n",
       "      <td>0.6191</td>\n",
       "      <td>0.6179</td>\n",
       "    </tr>\n",
       "    <tr>\n",
       "      <th>alpha0.9</th>\n",
       "      <td>0.6122</td>\n",
       "      <td>0.6091</td>\n",
       "      <td>0.6183</td>\n",
       "      <td>0.6177</td>\n",
       "      <td>0.6116</td>\n",
       "    </tr>\n",
       "  </tbody>\n",
       "</table>\n",
       "</div>"
      ],
      "text/plain": [
       "           temperature1.0  temperature2.5  temperature5.0  temperature7.5  \\\n",
       "alpha0.1           0.6113          0.6080          0.6120          0.6111   \n",
       "alpha0.25          0.6108          0.6126          0.6101          0.6141   \n",
       "alpha0.5           0.6118          0.6097          0.6125          0.6242   \n",
       "alpha0.75          0.6106          0.6101          0.6191          0.6191   \n",
       "alpha0.9           0.6122          0.6091          0.6183          0.6177   \n",
       "\n",
       "           temperature10.0  \n",
       "alpha0.1            0.6113  \n",
       "alpha0.25           0.6175  \n",
       "alpha0.5            0.6209  \n",
       "alpha0.75           0.6179  \n",
       "alpha0.9            0.6116  "
      ]
     },
     "execution_count": 79,
     "metadata": {},
     "output_type": "execute_result"
    }
   ],
   "source": [
    "method2_result"
   ]
  },
  {
   "cell_type": "markdown",
   "id": "235f4eb5",
   "metadata": {},
   "source": [
    "### scheduler"
   ]
  },
  {
   "cell_type": "code",
   "execution_count": 91,
   "id": "84cb3826",
   "metadata": {},
   "outputs": [],
   "source": [
    "alpha_lst = [0.5]\n",
    "temp_lst = [7.5]\n",
    "acc = []\n",
    "for i in range(len(alpha_lst)):\n",
    "    fname = os.path.join(f'./logs/simplecnn/method2/KD_student_alpha{alpha_lst[i]}_temp{temp_lst[i]}_scheduler/student.json')\n",
    "    f = json.load(open(fname,'r'))\n",
    "    acc.append(f['best_acc'])"
   ]
  },
  {
   "cell_type": "code",
   "execution_count": 92,
   "id": "25b95964",
   "metadata": {},
   "outputs": [
    {
     "data": {
      "text/html": [
       "<div>\n",
       "<style scoped>\n",
       "    .dataframe tbody tr th:only-of-type {\n",
       "        vertical-align: middle;\n",
       "    }\n",
       "\n",
       "    .dataframe tbody tr th {\n",
       "        vertical-align: top;\n",
       "    }\n",
       "\n",
       "    .dataframe thead th {\n",
       "        text-align: right;\n",
       "    }\n",
       "</style>\n",
       "<table border=\"1\" class=\"dataframe\">\n",
       "  <thead>\n",
       "    <tr style=\"text-align: right;\">\n",
       "      <th></th>\n",
       "      <th>alpha0.5 temp7.5</th>\n",
       "    </tr>\n",
       "  </thead>\n",
       "  <tbody>\n",
       "    <tr>\n",
       "      <th>simplecnn</th>\n",
       "      <td>0.6234</td>\n",
       "    </tr>\n",
       "  </tbody>\n",
       "</table>\n",
       "</div>"
      ],
      "text/plain": [
       "           alpha0.5 temp7.5\n",
       "simplecnn            0.6234"
      ]
     },
     "execution_count": 92,
     "metadata": {},
     "output_type": "execute_result"
    }
   ],
   "source": [
    "pd.DataFrame(acc, columns=['simplecnn'], index=['alpha0.5 temp7.5']).T"
   ]
  },
  {
   "cell_type": "markdown",
   "id": "c5b24291",
   "metadata": {},
   "source": [
    "## Method3"
   ]
  },
  {
   "cell_type": "code",
   "execution_count": 83,
   "id": "347df3f8",
   "metadata": {},
   "outputs": [],
   "source": [
    "alpha_lst=\"0.1 0.25 0.5 0.75 0.9\".split(' ')\n",
    "temperature_lst=\"1.0 2.5 5.0 7.5 10.0\".split(' ')"
   ]
  },
  {
   "cell_type": "code",
   "execution_count": 84,
   "id": "81b618ce",
   "metadata": {},
   "outputs": [],
   "source": [
    "method3_result = best_acc_per_method(method='method3',\n",
    "                                     alpha_lst=alpha_lst,\n",
    "                                     temperature_lst=temperature_lst)"
   ]
  },
  {
   "cell_type": "code",
   "execution_count": 85,
   "id": "eebda7c0",
   "metadata": {},
   "outputs": [
    {
     "data": {
      "text/html": [
       "<div>\n",
       "<style scoped>\n",
       "    .dataframe tbody tr th:only-of-type {\n",
       "        vertical-align: middle;\n",
       "    }\n",
       "\n",
       "    .dataframe tbody tr th {\n",
       "        vertical-align: top;\n",
       "    }\n",
       "\n",
       "    .dataframe thead th {\n",
       "        text-align: right;\n",
       "    }\n",
       "</style>\n",
       "<table border=\"1\" class=\"dataframe\">\n",
       "  <thead>\n",
       "    <tr style=\"text-align: right;\">\n",
       "      <th></th>\n",
       "      <th>temperature1.0</th>\n",
       "      <th>temperature2.5</th>\n",
       "      <th>temperature5.0</th>\n",
       "      <th>temperature7.5</th>\n",
       "      <th>temperature10.0</th>\n",
       "    </tr>\n",
       "  </thead>\n",
       "  <tbody>\n",
       "    <tr>\n",
       "      <th>alpha0.1</th>\n",
       "      <td>0.6083</td>\n",
       "      <td>0.6011</td>\n",
       "      <td>0</td>\n",
       "      <td>0.5173</td>\n",
       "      <td>0</td>\n",
       "    </tr>\n",
       "    <tr>\n",
       "      <th>alpha0.25</th>\n",
       "      <td>0.6106</td>\n",
       "      <td>0.4389</td>\n",
       "      <td>0</td>\n",
       "      <td>0.0000</td>\n",
       "      <td>0</td>\n",
       "    </tr>\n",
       "    <tr>\n",
       "      <th>alpha0.5</th>\n",
       "      <td>0.6054</td>\n",
       "      <td>0.0000</td>\n",
       "      <td>0</td>\n",
       "      <td>0.0000</td>\n",
       "      <td>0</td>\n",
       "    </tr>\n",
       "    <tr>\n",
       "      <th>alpha0.75</th>\n",
       "      <td>0.6052</td>\n",
       "      <td>0.0000</td>\n",
       "      <td>0</td>\n",
       "      <td>0.0000</td>\n",
       "      <td>0</td>\n",
       "    </tr>\n",
       "    <tr>\n",
       "      <th>alpha0.9</th>\n",
       "      <td>0.6035</td>\n",
       "      <td>0.0000</td>\n",
       "      <td>0</td>\n",
       "      <td>0.0000</td>\n",
       "      <td>0</td>\n",
       "    </tr>\n",
       "  </tbody>\n",
       "</table>\n",
       "</div>"
      ],
      "text/plain": [
       "           temperature1.0  temperature2.5  temperature5.0  temperature7.5  \\\n",
       "alpha0.1           0.6083          0.6011               0          0.5173   \n",
       "alpha0.25          0.6106          0.4389               0          0.0000   \n",
       "alpha0.5           0.6054          0.0000               0          0.0000   \n",
       "alpha0.75          0.6052          0.0000               0          0.0000   \n",
       "alpha0.9           0.6035          0.0000               0          0.0000   \n",
       "\n",
       "           temperature10.0  \n",
       "alpha0.1                 0  \n",
       "alpha0.25                0  \n",
       "alpha0.5                 0  \n",
       "alpha0.75                0  \n",
       "alpha0.9                 0  "
      ]
     },
     "execution_count": 85,
     "metadata": {},
     "output_type": "execute_result"
    }
   ],
   "source": [
    "method3_result"
   ]
  },
  {
   "cell_type": "markdown",
   "id": "02682373",
   "metadata": {},
   "source": [
    "# ResNet 18"
   ]
  },
  {
   "cell_type": "markdown",
   "id": "e524fc71",
   "metadata": {},
   "source": [
    "## Method1"
   ]
  },
  {
   "cell_type": "code",
   "execution_count": 86,
   "id": "6283b965",
   "metadata": {},
   "outputs": [],
   "source": [
    "alpha_lst = [0.5, 0.9]\n",
    "temp_lst = [10.0, 5.0]\n",
    "acc = []\n",
    "for i in range(len(alpha_lst)):\n",
    "    fname = os.path.join(f'./logs/resnet18/method1/KD_student_alpha{alpha_lst[i]}_temp{temp_lst[i]}/student.json')\n",
    "    f = json.load(open(fname,'r'))\n",
    "    acc.append(f['best_acc'])"
   ]
  },
  {
   "cell_type": "code",
   "execution_count": 87,
   "id": "adfad57f",
   "metadata": {},
   "outputs": [
    {
     "data": {
      "text/html": [
       "<div>\n",
       "<style scoped>\n",
       "    .dataframe tbody tr th:only-of-type {\n",
       "        vertical-align: middle;\n",
       "    }\n",
       "\n",
       "    .dataframe tbody tr th {\n",
       "        vertical-align: top;\n",
       "    }\n",
       "\n",
       "    .dataframe thead th {\n",
       "        text-align: right;\n",
       "    }\n",
       "</style>\n",
       "<table border=\"1\" class=\"dataframe\">\n",
       "  <thead>\n",
       "    <tr style=\"text-align: right;\">\n",
       "      <th></th>\n",
       "      <th>alpha0.5 temp10.0</th>\n",
       "      <th>alpha0.9 temp5.0</th>\n",
       "    </tr>\n",
       "  </thead>\n",
       "  <tbody>\n",
       "    <tr>\n",
       "      <th>resnet18</th>\n",
       "      <td>0.9021</td>\n",
       "      <td>0.8812</td>\n",
       "    </tr>\n",
       "  </tbody>\n",
       "</table>\n",
       "</div>"
      ],
      "text/plain": [
       "          alpha0.5 temp10.0  alpha0.9 temp5.0\n",
       "resnet18             0.9021            0.8812"
      ]
     },
     "execution_count": 87,
     "metadata": {},
     "output_type": "execute_result"
    }
   ],
   "source": [
    "pd.DataFrame(acc, columns=['resnet18'], index=['alpha0.5 temp10.0', 'alpha0.9 temp5.0']).T"
   ]
  },
  {
   "cell_type": "markdown",
   "id": "30a68087",
   "metadata": {},
   "source": [
    "### Scheduler"
   ]
  },
  {
   "cell_type": "code",
   "execution_count": 88,
   "id": "131ae80e",
   "metadata": {},
   "outputs": [],
   "source": [
    "alpha_lst = [0.5, 0.9]\n",
    "temp_lst = [10.0, 5.0]\n",
    "acc = []\n",
    "for i in range(len(alpha_lst)):\n",
    "    fname = os.path.join(f'./logs/resnet18/method1/KD_student_alpha{alpha_lst[i]}_temp{temp_lst[i]}_scheduler/student.json')\n",
    "    f = json.load(open(fname,'r'))\n",
    "    acc.append(f['best_acc'])"
   ]
  },
  {
   "cell_type": "code",
   "execution_count": 89,
   "id": "5db27452",
   "metadata": {},
   "outputs": [
    {
     "data": {
      "text/html": [
       "<div>\n",
       "<style scoped>\n",
       "    .dataframe tbody tr th:only-of-type {\n",
       "        vertical-align: middle;\n",
       "    }\n",
       "\n",
       "    .dataframe tbody tr th {\n",
       "        vertical-align: top;\n",
       "    }\n",
       "\n",
       "    .dataframe thead th {\n",
       "        text-align: right;\n",
       "    }\n",
       "</style>\n",
       "<table border=\"1\" class=\"dataframe\">\n",
       "  <thead>\n",
       "    <tr style=\"text-align: right;\">\n",
       "      <th></th>\n",
       "      <th>alpha0.5 temp10.0</th>\n",
       "      <th>alpha0.9 temp5.0</th>\n",
       "    </tr>\n",
       "  </thead>\n",
       "  <tbody>\n",
       "    <tr>\n",
       "      <th>resnet18</th>\n",
       "      <td>0.914</td>\n",
       "      <td>0.8527</td>\n",
       "    </tr>\n",
       "  </tbody>\n",
       "</table>\n",
       "</div>"
      ],
      "text/plain": [
       "          alpha0.5 temp10.0  alpha0.9 temp5.0\n",
       "resnet18              0.914            0.8527"
      ]
     },
     "execution_count": 89,
     "metadata": {},
     "output_type": "execute_result"
    }
   ],
   "source": [
    "pd.DataFrame(acc, columns=['resnet18'], index=['alpha0.5 temp10.0', 'alpha0.9 temp5.0']).T"
   ]
  },
  {
   "cell_type": "markdown",
   "id": "3d1bcd86",
   "metadata": {},
   "source": [
    "## Method2"
   ]
  },
  {
   "cell_type": "code",
   "execution_count": 97,
   "id": "8bfa614e",
   "metadata": {},
   "outputs": [],
   "source": [
    "alpha_lst = [0.5]\n",
    "temp_lst = [7.5]\n",
    "acc = []\n",
    "for i in range(len(alpha_lst)):\n",
    "    fname = os.path.join(f'./logs/resnet18/method2/KD_student_alpha{alpha_lst[i]}_temp{temp_lst[i]}/student.json')\n",
    "    f = json.load(open(fname,'r'))\n",
    "    acc.append(f['best_acc'])"
   ]
  },
  {
   "cell_type": "code",
   "execution_count": 98,
   "id": "fe0fe9a9",
   "metadata": {},
   "outputs": [
    {
     "data": {
      "text/html": [
       "<div>\n",
       "<style scoped>\n",
       "    .dataframe tbody tr th:only-of-type {\n",
       "        vertical-align: middle;\n",
       "    }\n",
       "\n",
       "    .dataframe tbody tr th {\n",
       "        vertical-align: top;\n",
       "    }\n",
       "\n",
       "    .dataframe thead th {\n",
       "        text-align: right;\n",
       "    }\n",
       "</style>\n",
       "<table border=\"1\" class=\"dataframe\">\n",
       "  <thead>\n",
       "    <tr style=\"text-align: right;\">\n",
       "      <th></th>\n",
       "      <th>alpha0.5 temp7.5</th>\n",
       "    </tr>\n",
       "  </thead>\n",
       "  <tbody>\n",
       "    <tr>\n",
       "      <th>resnet18</th>\n",
       "      <td>0.9037</td>\n",
       "    </tr>\n",
       "  </tbody>\n",
       "</table>\n",
       "</div>"
      ],
      "text/plain": [
       "          alpha0.5 temp7.5\n",
       "resnet18            0.9037"
      ]
     },
     "execution_count": 98,
     "metadata": {},
     "output_type": "execute_result"
    }
   ],
   "source": [
    "pd.DataFrame(acc, columns=['resnet18'], index=['alpha0.5 temp7.5']).T"
   ]
  },
  {
   "cell_type": "markdown",
   "id": "0ac9237c",
   "metadata": {},
   "source": [
    "### Scheduler"
   ]
  },
  {
   "cell_type": "code",
   "execution_count": 99,
   "id": "45deb781",
   "metadata": {},
   "outputs": [],
   "source": [
    "alpha_lst = [0.5]\n",
    "temp_lst = [7.5]\n",
    "acc = []\n",
    "for i in range(len(alpha_lst)):\n",
    "    fname = os.path.join(f'./logs/resnet18/method2/KD_student_alpha{alpha_lst[i]}_temp{temp_lst[i]}_scheduler/student.json')\n",
    "    f = json.load(open(fname,'r'))\n",
    "    acc.append(f['best_acc'])"
   ]
  },
  {
   "cell_type": "code",
   "execution_count": 100,
   "id": "27b132ee",
   "metadata": {},
   "outputs": [
    {
     "data": {
      "text/html": [
       "<div>\n",
       "<style scoped>\n",
       "    .dataframe tbody tr th:only-of-type {\n",
       "        vertical-align: middle;\n",
       "    }\n",
       "\n",
       "    .dataframe tbody tr th {\n",
       "        vertical-align: top;\n",
       "    }\n",
       "\n",
       "    .dataframe thead th {\n",
       "        text-align: right;\n",
       "    }\n",
       "</style>\n",
       "<table border=\"1\" class=\"dataframe\">\n",
       "  <thead>\n",
       "    <tr style=\"text-align: right;\">\n",
       "      <th></th>\n",
       "      <th>alpha0.5 temp7.5</th>\n",
       "    </tr>\n",
       "  </thead>\n",
       "  <tbody>\n",
       "    <tr>\n",
       "      <th>resnet18</th>\n",
       "      <td>0.9099</td>\n",
       "    </tr>\n",
       "  </tbody>\n",
       "</table>\n",
       "</div>"
      ],
      "text/plain": [
       "          alpha0.5 temp7.5\n",
       "resnet18            0.9099"
      ]
     },
     "execution_count": 100,
     "metadata": {},
     "output_type": "execute_result"
    }
   ],
   "source": [
    "pd.DataFrame(acc, columns=['resnet18'], index=['alpha0.5 temp7.5']).T"
   ]
  },
  {
   "cell_type": "code",
   "execution_count": null,
   "id": "d2e08293",
   "metadata": {},
   "outputs": [],
   "source": []
  },
  {
   "cell_type": "code",
   "execution_count": null,
   "id": "a7ed90f5",
   "metadata": {},
   "outputs": [],
   "source": []
  },
  {
   "cell_type": "code",
   "execution_count": null,
   "id": "c29124e7",
   "metadata": {},
   "outputs": [],
   "source": []
  },
  {
   "cell_type": "code",
   "execution_count": null,
   "id": "51b69dc1",
   "metadata": {},
   "outputs": [],
   "source": []
  },
  {
   "cell_type": "code",
   "execution_count": null,
   "id": "f709d486",
   "metadata": {},
   "outputs": [],
   "source": []
  },
  {
   "cell_type": "code",
   "execution_count": null,
   "id": "4328b117",
   "metadata": {},
   "outputs": [],
   "source": []
  },
  {
   "cell_type": "code",
   "execution_count": null,
   "id": "c5e26f3d",
   "metadata": {},
   "outputs": [],
   "source": []
  },
  {
   "cell_type": "code",
   "execution_count": null,
   "id": "3a8b8901",
   "metadata": {},
   "outputs": [],
   "source": []
  },
  {
   "cell_type": "code",
   "execution_count": null,
   "id": "ad69d2d2",
   "metadata": {},
   "outputs": [],
   "source": []
  },
  {
   "cell_type": "code",
   "execution_count": null,
   "id": "4e2417d6",
   "metadata": {},
   "outputs": [],
   "source": []
  },
  {
   "cell_type": "code",
   "execution_count": null,
   "id": "f848c8cc",
   "metadata": {},
   "outputs": [],
   "source": []
  },
  {
   "cell_type": "code",
   "execution_count": null,
   "id": "03abb277",
   "metadata": {},
   "outputs": [],
   "source": []
  }
 ],
 "metadata": {
  "interpreter": {
   "hash": "fa591e11221661f1ecc8136da9d73cea554c23e0883e0d08381481ec0c2f8724"
  },
  "kernelspec": {
   "display_name": "Python 3.9.12 ('graduation')",
   "language": "python",
   "name": "python3"
  },
  "language_info": {
   "codemirror_mode": {
    "name": "ipython",
    "version": 3
   },
   "file_extension": ".py",
   "mimetype": "text/x-python",
   "name": "python",
   "nbconvert_exporter": "python",
   "pygments_lexer": "ipython3",
   "version": "3.9.12"
  }
 },
 "nbformat": 4,
 "nbformat_minor": 5
}
