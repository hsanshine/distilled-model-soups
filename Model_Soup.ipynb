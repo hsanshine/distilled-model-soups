{
 "cells": [
  {
   "cell_type": "code",
   "execution_count": 1,
   "metadata": {},
   "outputs": [],
   "source": [
    "from timm import create_model\n",
    "\n",
    "import torchvision\n",
    "import torchvision.transforms as transforms\n",
    "\n",
    "import os\n",
    "import torch\n",
    "import torch.nn as nn\n",
    "\n",
    "from copy import deepcopy\n",
    "\n",
    "import numpy as np\n",
    "\n",
    "from glob import glob\n",
    "\n",
    "import pandas as pd"
   ]
  },
  {
   "cell_type": "markdown",
   "metadata": {},
   "source": [
    "# Config"
   ]
  },
  {
   "cell_type": "code",
   "execution_count": 2,
   "metadata": {},
   "outputs": [],
   "source": [
    "class Config:\n",
    "    datadir = '/datasets/'\n",
    "    modelname = 'vit_tiny_patch16_224_in21k'\n",
    "    img_size = 224\n",
    "    \n",
    "args = Config()"
   ]
  },
  {
   "cell_type": "markdown",
   "metadata": {},
   "source": [
    "# DataLoader"
   ]
  },
  {
   "cell_type": "code",
   "execution_count": 16,
   "metadata": {},
   "outputs": [],
   "source": [
    "def build_loader(args):\n",
    "    transform_test = transforms.Compose([\n",
    "        transforms.Resize(args.img_size),\n",
    "        transforms.ToTensor(),\n",
    "        transforms.Normalize((0.4914, 0.4822, 0.4465), (0.2023, 0.1994, 0.2010)),\n",
    "    ])\n",
    "\n",
    "    testset = torchvision.datasets.CIFAR10(\n",
    "        root=os.path.join(args.datadir, 'CIFAR10'), train=False, download=True, transform=transform_test)\n",
    "    testloader = torch.utils.data.DataLoader(\n",
    "        testset, batch_size=100, shuffle=False, num_workers=2)\n",
    "\n",
    "    return testloader\n",
    "\n",
    "def test(net, testloader):\n",
    "    criterion = nn.CrossEntropyLoss()\n",
    "    \n",
    "    global best_acc\n",
    "    net.eval()\n",
    "    test_loss = 0\n",
    "    correct = 0\n",
    "    total = 0\n",
    "    with torch.no_grad():\n",
    "        for batch_idx, (inputs, targets) in enumerate(testloader):\n",
    "            inputs, targets = inputs.cuda(), targets.cuda()\n",
    "            outputs = net(inputs)\n",
    "            loss = criterion(outputs, targets)\n",
    "\n",
    "            test_loss += loss.item()\n",
    "            _, predicted = outputs.max(1)\n",
    "            total += targets.size(0)\n",
    "            correct += predicted.eq(targets).sum().item()\n",
    "    \n",
    "    acc = 100.*correct/total\n",
    "    loss = test_loss / len(testloader)\n",
    "    \n",
    "    return acc, loss"
   ]
  },
  {
   "cell_type": "markdown",
   "metadata": {},
   "source": [
    "# Model Soup"
   ]
  },
  {
   "cell_type": "code",
   "execution_count": 11,
   "metadata": {},
   "outputs": [],
   "source": [
    "def add_ingradient(soup, modelname, ckp_path):\n",
    "    ingradient = create_model(modelname)\n",
    "    ingradient.load_state_dict(torch.load(ckp_path)['net'])\n",
    "    ingradient.cuda()\n",
    "\n",
    "    for param1, param2 in zip(soup.parameters(), ingradient.parameters()):\n",
    "        param1.data = (param1.data + param2.data) / 2\n",
    "        \n",
    "    return soup\n",
    "\n",
    "def greedy_soup(ckp_list, modelname, testloader):\n",
    "    soup = create_model(modelname)\n",
    "    soup.load_state_dict(torch.load(ckp_list[0])['net'])\n",
    "    soup.cuda()\n",
    "    \n",
    "    best_acc, loss = test(soup, testloader)\n",
    "    print(f'first acc: {best_acc:.2f}%')\n",
    "    \n",
    "    # cook\n",
    "    for i, ckp_i in enumerate(ckp_list[1:]):\n",
    "        soup_next = deepcopy(soup)\n",
    "        soup_next = add_ingradient(soup_next, modelname, ckp_i)\n",
    "        acc, loss = test(soup_next, testloader)\n",
    "        \n",
    "        print(f'acc of {i} ingradient: {acc:.2f}%')\n",
    "        \n",
    "        if acc > best_acc:\n",
    "            soup = soup_next\n",
    "    \n",
    "    return soup"
   ]
  },
  {
   "cell_type": "markdown",
   "metadata": {},
   "source": [
    "# Results"
   ]
  },
  {
   "cell_type": "markdown",
   "metadata": {},
   "source": [
    "**ViT-T/16**"
   ]
  },
  {
   "cell_type": "markdown",
   "metadata": {},
   "source": []
  },
  {
   "cell_type": "code",
   "execution_count": 12,
   "metadata": {},
   "outputs": [
    {
     "name": "stdout",
     "output_type": "stream",
     "text": [
      "Files already downloaded and verified\n"
     ]
    }
   ],
   "source": [
    "testloader = build_loader(args)"
   ]
  },
  {
   "cell_type": "code",
   "execution_count": 5,
   "metadata": {},
   "outputs": [
    {
     "name": "stdout",
     "output_type": "stream",
     "text": [
      "first acc: 96.53%\n",
      "acc of 0 ingradient: 96.79%\n",
      "acc of 1 ingradient: 96.66%\n",
      "acc of 2 ingradient: 96.70%\n",
      "acc of 3 ingradient: 96.74%\n",
      "acc of 4 ingradient: 96.90%\n"
     ]
    }
   ],
   "source": [
    "ckp_list = glob('./pytorch-cifar/checkpoint/*vit*')\n",
    "acc_list = []\n",
    "loss_list = []\n",
    "\n",
    "for ckp_i in ckp_list:\n",
    "    net = create_model(args.modelname)\n",
    "    net.cuda()\n",
    "    net.load_state_dict(torch.load(ckp_i)['net'])\n",
    "\n",
    "    acc, loss = test(net, testloader)\n",
    "    \n",
    "    acc_list.append(acc)\n",
    "    loss_list.append(loss)\n",
    "    \n",
    "# cook\n",
    "ckp_list = glob('./pytorch-cifar/checkpoint/*vit*')\n",
    "net_soup = greedy_soup(ckp_list, args.modelname, testloader)\n",
    "\n",
    "acc, loss = test(net_soup, testloader, criterion)\n",
    "    \n",
    "acc_list.append(acc)\n",
    "loss_list.append(loss)\n",
    "ckp_list.append('soup')"
   ]
  },
  {
   "cell_type": "code",
   "execution_count": 7,
   "metadata": {},
   "outputs": [
    {
     "data": {
      "text/html": [
       "<div>\n",
       "<style scoped>\n",
       "    .dataframe tbody tr th:only-of-type {\n",
       "        vertical-align: middle;\n",
       "    }\n",
       "\n",
       "    .dataframe tbody tr th {\n",
       "        vertical-align: top;\n",
       "    }\n",
       "\n",
       "    .dataframe thead th {\n",
       "        text-align: right;\n",
       "    }\n",
       "</style>\n",
       "<table border=\"1\" class=\"dataframe\">\n",
       "  <thead>\n",
       "    <tr style=\"text-align: right;\">\n",
       "      <th></th>\n",
       "      <th>acc</th>\n",
       "      <th>loss</th>\n",
       "      <th>ckp_path</th>\n",
       "    </tr>\n",
       "  </thead>\n",
       "  <tbody>\n",
       "    <tr>\n",
       "      <th>0</th>\n",
       "      <td>96.53</td>\n",
       "      <td>0.111938</td>\n",
       "      <td>./pytorch-cifar/checkpoint/vit_tiny_patch16_22...</td>\n",
       "    </tr>\n",
       "    <tr>\n",
       "      <th>1</th>\n",
       "      <td>96.50</td>\n",
       "      <td>0.115345</td>\n",
       "      <td>./pytorch-cifar/checkpoint/vit_tiny_patch16_22...</td>\n",
       "    </tr>\n",
       "    <tr>\n",
       "      <th>2</th>\n",
       "      <td>96.66</td>\n",
       "      <td>0.109672</td>\n",
       "      <td>./pytorch-cifar/checkpoint/vit_tiny_patch16_22...</td>\n",
       "    </tr>\n",
       "    <tr>\n",
       "      <th>3</th>\n",
       "      <td>96.75</td>\n",
       "      <td>0.113079</td>\n",
       "      <td>./pytorch-cifar/checkpoint/vit_tiny_patch16_22...</td>\n",
       "    </tr>\n",
       "    <tr>\n",
       "      <th>4</th>\n",
       "      <td>96.83</td>\n",
       "      <td>0.109476</td>\n",
       "      <td>./pytorch-cifar/checkpoint/vit_tiny_patch16_22...</td>\n",
       "    </tr>\n",
       "    <tr>\n",
       "      <th>5</th>\n",
       "      <td>96.66</td>\n",
       "      <td>0.109476</td>\n",
       "      <td>./pytorch-cifar/checkpoint/vit_tiny_patch16_22...</td>\n",
       "    </tr>\n",
       "    <tr>\n",
       "      <th>6</th>\n",
       "      <td>96.90</td>\n",
       "      <td>0.106054</td>\n",
       "      <td>soup</td>\n",
       "    </tr>\n",
       "  </tbody>\n",
       "</table>\n",
       "</div>"
      ],
      "text/plain": [
       "     acc      loss                                           ckp_path\n",
       "0  96.53  0.111938  ./pytorch-cifar/checkpoint/vit_tiny_patch16_22...\n",
       "1  96.50  0.115345  ./pytorch-cifar/checkpoint/vit_tiny_patch16_22...\n",
       "2  96.66  0.109672  ./pytorch-cifar/checkpoint/vit_tiny_patch16_22...\n",
       "3  96.75  0.113079  ./pytorch-cifar/checkpoint/vit_tiny_patch16_22...\n",
       "4  96.83  0.109476  ./pytorch-cifar/checkpoint/vit_tiny_patch16_22...\n",
       "5  96.66  0.109476  ./pytorch-cifar/checkpoint/vit_tiny_patch16_22...\n",
       "6  96.90  0.106054                                               soup"
      ]
     },
     "execution_count": 7,
     "metadata": {},
     "output_type": "execute_result"
    }
   ],
   "source": [
    "vit_df = pd.DataFrame({'acc':acc_list, 'loss':loss_list, 'ckp_path':ckp_list})\n",
    "vit_df"
   ]
  },
  {
   "cell_type": "code",
   "execution_count": 23,
   "metadata": {},
   "outputs": [],
   "source": [
    "vit_df.round(4).to_csv('vit-t16-results.csv',index=False)"
   ]
  },
  {
   "cell_type": "markdown",
   "metadata": {},
   "source": [
    "**ResNet50**"
   ]
  },
  {
   "cell_type": "code",
   "execution_count": 17,
   "metadata": {},
   "outputs": [
    {
     "name": "stdout",
     "output_type": "stream",
     "text": [
      "Files already downloaded and verified\n"
     ]
    }
   ],
   "source": [
    "args.modelname = 'resnet50d'\n",
    "args.img_size = 32\n",
    "\n",
    "testloader = build_loader(args)"
   ]
  },
  {
   "cell_type": "code",
   "execution_count": 18,
   "metadata": {},
   "outputs": [
    {
     "name": "stdout",
     "output_type": "stream",
     "text": [
      "first acc: 91.27%\n",
      "acc of 0 ingradient: 14.55%\n",
      "acc of 1 ingradient: 14.07%\n",
      "acc of 2 ingradient: 9.08%\n",
      "acc of 3 ingradient: 10.10%\n",
      "acc of 4 ingradient: 10.01%\n"
     ]
    }
   ],
   "source": [
    "ckp_list = glob('./pytorch-cifar/checkpoint/*resnet*')\n",
    "acc_list = []\n",
    "loss_list = []\n",
    "\n",
    "for ckp_i in ckp_list:\n",
    "    net = create_model(args.modelname)\n",
    "    net.cuda()\n",
    "    net.load_state_dict(torch.load(ckp_i)['net'])\n",
    "\n",
    "    acc, loss = test(net, testloader)\n",
    "    \n",
    "    acc_list.append(acc)\n",
    "    loss_list.append(loss)\n",
    "    \n",
    "# cook\n",
    "ckp_list = glob('./pytorch-cifar/checkpoint/*resnet*')\n",
    "net_soup = greedy_soup(ckp_list, args.modelname, testloader)\n",
    "\n",
    "acc, loss = test(net_soup, testloader)\n",
    "    \n",
    "acc_list.append(acc)\n",
    "loss_list.append(loss)\n",
    "ckp_list.append('soup')"
   ]
  },
  {
   "cell_type": "code",
   "execution_count": 19,
   "metadata": {},
   "outputs": [
    {
     "data": {
      "text/html": [
       "<div>\n",
       "<style scoped>\n",
       "    .dataframe tbody tr th:only-of-type {\n",
       "        vertical-align: middle;\n",
       "    }\n",
       "\n",
       "    .dataframe tbody tr th {\n",
       "        vertical-align: top;\n",
       "    }\n",
       "\n",
       "    .dataframe thead th {\n",
       "        text-align: right;\n",
       "    }\n",
       "</style>\n",
       "<table border=\"1\" class=\"dataframe\">\n",
       "  <thead>\n",
       "    <tr style=\"text-align: right;\">\n",
       "      <th></th>\n",
       "      <th>acc</th>\n",
       "      <th>loss</th>\n",
       "      <th>ckp_path</th>\n",
       "    </tr>\n",
       "  </thead>\n",
       "  <tbody>\n",
       "    <tr>\n",
       "      <th>0</th>\n",
       "      <td>91.27</td>\n",
       "      <td>0.306234</td>\n",
       "      <td>./pytorch-cifar/checkpoint/resnet50d_sgd_lr-0....</td>\n",
       "    </tr>\n",
       "    <tr>\n",
       "      <th>1</th>\n",
       "      <td>91.35</td>\n",
       "      <td>0.301552</td>\n",
       "      <td>./pytorch-cifar/checkpoint/resnet50d_sgd_lr-0....</td>\n",
       "    </tr>\n",
       "    <tr>\n",
       "      <th>2</th>\n",
       "      <td>91.34</td>\n",
       "      <td>0.301978</td>\n",
       "      <td>./pytorch-cifar/checkpoint/resnet50d_sgd_lr-0....</td>\n",
       "    </tr>\n",
       "    <tr>\n",
       "      <th>3</th>\n",
       "      <td>91.29</td>\n",
       "      <td>0.301511</td>\n",
       "      <td>./pytorch-cifar/checkpoint/resnet50d_sgd_lr-0....</td>\n",
       "    </tr>\n",
       "    <tr>\n",
       "      <th>4</th>\n",
       "      <td>91.35</td>\n",
       "      <td>0.300445</td>\n",
       "      <td>./pytorch-cifar/checkpoint/resnet50d_sgd_lr-0....</td>\n",
       "    </tr>\n",
       "    <tr>\n",
       "      <th>5</th>\n",
       "      <td>91.36</td>\n",
       "      <td>0.307123</td>\n",
       "      <td>./pytorch-cifar/checkpoint/resnet50d_sgd_lr-0....</td>\n",
       "    </tr>\n",
       "    <tr>\n",
       "      <th>6</th>\n",
       "      <td>91.27</td>\n",
       "      <td>0.306234</td>\n",
       "      <td>soup</td>\n",
       "    </tr>\n",
       "  </tbody>\n",
       "</table>\n",
       "</div>"
      ],
      "text/plain": [
       "     acc      loss                                           ckp_path\n",
       "0  91.27  0.306234  ./pytorch-cifar/checkpoint/resnet50d_sgd_lr-0....\n",
       "1  91.35  0.301552  ./pytorch-cifar/checkpoint/resnet50d_sgd_lr-0....\n",
       "2  91.34  0.301978  ./pytorch-cifar/checkpoint/resnet50d_sgd_lr-0....\n",
       "3  91.29  0.301511  ./pytorch-cifar/checkpoint/resnet50d_sgd_lr-0....\n",
       "4  91.35  0.300445  ./pytorch-cifar/checkpoint/resnet50d_sgd_lr-0....\n",
       "5  91.36  0.307123  ./pytorch-cifar/checkpoint/resnet50d_sgd_lr-0....\n",
       "6  91.27  0.306234                                               soup"
      ]
     },
     "execution_count": 19,
     "metadata": {},
     "output_type": "execute_result"
    }
   ],
   "source": [
    "resnet_df = pd.DataFrame({'acc':acc_list, 'loss':loss_list, 'ckp_path':ckp_list})\n",
    "resnet_df"
   ]
  },
  {
   "cell_type": "code",
   "execution_count": 24,
   "metadata": {},
   "outputs": [],
   "source": [
    "resnet_df.round(4).to_csv('resnet50-results.csv',index=False)"
   ]
  }
 ],
 "metadata": {
  "kernelspec": {
   "display_name": "Python 3",
   "language": "python",
   "name": "python3"
  },
  "language_info": {
   "codemirror_mode": {
    "name": "ipython",
    "version": 3
   },
   "file_extension": ".py",
   "mimetype": "text/x-python",
   "name": "python",
   "nbconvert_exporter": "python",
   "pygments_lexer": "ipython3",
   "version": "3.6.10"
  }
 },
 "nbformat": 4,
 "nbformat_minor": 4
}
