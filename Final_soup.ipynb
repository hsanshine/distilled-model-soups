{
 "cells": [
  {
   "cell_type": "code",
   "execution_count": 23,
   "metadata": {},
   "outputs": [],
   "source": [
    "# from timm import create_model\n",
    "\n",
    "import torchvision\n",
    "import torchvision.transforms as transforms\n",
    "\n",
    "from models import *\n",
    "from utils import fit, torch_seed, progress_bar\n",
    "import os\n",
    "import torch\n",
    "import torch.nn as nn\n",
    "\n",
    "from copy import deepcopy\n",
    "\n",
    "import numpy as np\n",
    "\n",
    "from glob import glob\n",
    "\n",
    "import pandas as pd"
   ]
  },
  {
   "cell_type": "markdown",
   "metadata": {},
   "source": [
    "# Config\n"
   ]
  },
  {
   "cell_type": "code",
   "execution_count": 24,
   "metadata": {},
   "outputs": [],
   "source": [
    "class Config:\n",
    "    datadir = './data/'\n",
    "    # modelname = 'vit_tiny_patch16_224_in21k'\n",
    "    batch_size=128\n",
    "    img_size = 224\n",
    "    \n",
    "args = Config()"
   ]
  },
  {
   "cell_type": "markdown",
   "metadata": {},
   "source": [
    "## models path\n"
   ]
  },
  {
   "cell_type": "code",
   "execution_count": 25,
   "metadata": {},
   "outputs": [],
   "source": [
    "#models_path =  './logs/provisional_results/simplecnn_*/*/*/student.pt'\n",
    "models_path =  './logs/simplecnn_*/*/*/student.pt'"
   ]
  },
  {
   "cell_type": "markdown",
   "metadata": {},
   "source": [
    "# Setting the seed"
   ]
  },
  {
   "cell_type": "code",
   "execution_count": 26,
   "metadata": {},
   "outputs": [],
   "source": [
    "torch_seed(223)\n",
    "device = torch.device(f'cuda' if torch.cuda.is_available() else 'cpu')"
   ]
  },
  {
   "cell_type": "markdown",
   "metadata": {},
   "source": [
    "# DataLoader\n"
   ]
  },
  {
   "cell_type": "code",
   "execution_count": 27,
   "metadata": {},
   "outputs": [],
   "source": [
    "def build_loader(datadir, batch_size):\n",
    "    transform_test = torchvision.transforms.Compose([\n",
    "        torchvision.transforms.ToTensor(),\n",
    "        torchvision.transforms.Normalize((0.4914, 0.4822, 0.4465), (0.2023, 0.1994, 0.2010)),\n",
    "    ])\n",
    "\n",
    "\n",
    "    testset = torchvision.datasets.CIFAR10(\n",
    "        root=datadir, train=False, download=True, transform=transform_test)\n",
    "    testloader = torch.utils.data.DataLoader(\n",
    "        testset, batch_size=batch_size, shuffle=False, num_workers=6)\n",
    "\n",
    "    return testloader\n",
    "\n",
    "# def test(net, testloader):\n",
    "#     criterion = nn.CrossEntropyLoss()\n",
    "    \n",
    "#     global best_acc\n",
    "#     net.eval()\n",
    "#     test_loss = 0\n",
    "#     correct = 0\n",
    "#     total = 0\n",
    "#     with torch.no_grad():\n",
    "#         for batch_idx, (inputs, targets) in enumerate(testloader):\n",
    "#             inputs, targets = inputs.cuda(), targets.cuda()\n",
    "#             outputs = net(inputs)\n",
    "#             loss = criterion(outputs, targets)\n",
    "\n",
    "#             test_loss += loss.item()\n",
    "#             _, predicted = outputs.max(1)\n",
    "#             total += targets.size(0)\n",
    "#             correct += predicted.eq(targets).sum().item()\n",
    "    \n",
    "#     acc = 100.*correct/total\n",
    "#     loss = test_loss / len(testloader)\n",
    "    \n",
    "#     return acc, loss\n",
    "\n",
    "def test(model, dataloader, criterion=nn.CrossEntropyLoss()):\n",
    "    global best_acc\n",
    "    model.eval()\n",
    "    correct = 0\n",
    "    total = 0\n",
    "    total_loss = 0\n",
    "\n",
    "\n",
    "    with torch.no_grad():\n",
    "        for idx, (inputs, targets) in enumerate(dataloader):\n",
    "            inputs, targets = inputs.cuda(), targets.cuda()\n",
    "            \n",
    "            # predict\n",
    "            outputs = model(inputs)\n",
    "            \n",
    "            # loss \n",
    "            loss = criterion(outputs, targets)\n",
    "            \n",
    "            # total loss and acc\n",
    "            total_loss += loss.item()\n",
    "            preds = outputs.argmax(dim=1)\n",
    "            correct += targets.eq(preds).sum().item()\n",
    "            total += targets.size(0)\n",
    "            \n",
    "            # #massage\n",
    "            # progress_bar(current=idx, \n",
    "            #              total=len(dataloader),\n",
    "            #              msg='Loss: %.3f | Acc: %.3f%% [%d/%d]' % (total_loss/(idx + 1), \n",
    "            #                                                      100.*(correct/total), correct, total),\n",
    "            #              term_width=100)\n",
    "\n",
    "    return correct/total, total_loss/len(dataloader)"
   ]
  },
  {
   "cell_type": "markdown",
   "metadata": {},
   "source": []
  },
  {
   "cell_type": "markdown",
   "metadata": {},
   "source": [
    "# Model Soup"
   ]
  },
  {
   "cell_type": "code",
   "execution_count": 28,
   "metadata": {},
   "outputs": [],
   "source": [
    "def add_ingradient(soup, ckp_path):\n",
    "    #ingradient = create_model(modelname)\n",
    "    ingradient = Student()\n",
    "    ingradient.load_state_dict(torch.load(ckp_path)['model'])\n",
    "    ingradient.cuda()\n",
    "\n",
    "    for param1, param2 in zip(soup.parameters(), ingradient.parameters()):\n",
    "        param1.data = (param1.data + param2.data) / 2\n",
    "        \n",
    "    return soup\n",
    "\n",
    "def greedy_soup(ckp_list, testloader):\n",
    "    #soup = create_model(modelname)\n",
    "    soup = Student()\n",
    "    soup.load_state_dict(torch.load(ckp_list[0])['model'])\n",
    "    soup.cuda()\n",
    "    \n",
    "    best_acc, loss = test(soup, testloader)\n",
    "    print(f'first acc: {best_acc:.2f}%')\n",
    "    \n",
    "    # cook\n",
    "    for i, ckp_i in enumerate(ckp_list[1:]):\n",
    "        soup_next = deepcopy(soup)\n",
    "        soup_next = add_ingradient(soup_next, ckp_i)\n",
    "        acc, loss = test(soup_next, testloader)\n",
    "        \n",
    "        print(f'acc of {i} ingradient: {acc:.2f}%')\n",
    "        \n",
    "        if acc > best_acc:\n",
    "            soup = soup_next\n",
    "    \n",
    "    return soup"
   ]
  },
  {
   "cell_type": "markdown",
   "metadata": {},
   "source": [
    "# Results\n"
   ]
  },
  {
   "cell_type": "markdown",
   "metadata": {},
   "source": [
    "\n",
    "### Simple CNN\n"
   ]
  },
  {
   "cell_type": "code",
   "execution_count": 29,
   "metadata": {},
   "outputs": [
    {
     "name": "stdout",
     "output_type": "stream",
     "text": [
      "Files already downloaded and verified\n"
     ]
    }
   ],
   "source": [
    "testloader = build_loader(args.datadir, args.batch_size)"
   ]
  },
  {
   "cell_type": "code",
   "execution_count": 30,
   "metadata": {},
   "outputs": [
    {
     "name": "stdout",
     "output_type": "stream",
     "text": [
      "9\n",
      "first acc: 0.61%\n",
      "acc of 0 ingradient: 0.60%\n",
      "acc of 1 ingradient: 0.62%\n",
      "acc of 2 ingradient: 0.62%\n",
      "acc of 3 ingradient: 0.59%\n",
      "acc of 4 ingradient: 0.62%\n",
      "acc of 5 ingradient: 0.62%\n",
      "acc of 6 ingradient: 0.61%\n",
      "acc of 7 ingradient: 0.57%\n"
     ]
    }
   ],
   "source": [
    "ckp_list = glob(models_path)\n",
    "print(len(ckp_list))\n",
    "acc_list = []\n",
    "loss_list = []\n",
    "\n",
    "for ckp_i in ckp_list:\n",
    "    #Student is defined in models...\n",
    "    net = Student()\n",
    "    # net = create_model(args.modelname)\n",
    "    net.cuda()\n",
    "    # load the student state at the given checkpoint\n",
    "    net.load_state_dict(torch.load(ckp_i)['model'])\n",
    "\n",
    "    acc, loss = test(net, testloader)\n",
    "    \n",
    "    acc_list.append(acc)\n",
    "    loss_list.append(loss)\n",
    "    \n",
    "# cook\n",
    "ckp_list =  glob(models_path)\n",
    "net_soup = greedy_soup(ckp_list, testloader)\n",
    "\n",
    "acc, loss = test(net_soup, testloader)\n",
    "    \n",
    "acc_list.append(acc)\n",
    "loss_list.append(loss)\n",
    "ckp_list.append('soup')"
   ]
  },
  {
   "cell_type": "code",
   "execution_count": 31,
   "metadata": {},
   "outputs": [
    {
     "data": {
      "text/html": [
       "<div>\n",
       "<style scoped>\n",
       "    .dataframe tbody tr th:only-of-type {\n",
       "        vertical-align: middle;\n",
       "    }\n",
       "\n",
       "    .dataframe tbody tr th {\n",
       "        vertical-align: top;\n",
       "    }\n",
       "\n",
       "    .dataframe thead th {\n",
       "        text-align: right;\n",
       "    }\n",
       "</style>\n",
       "<table border=\"1\" class=\"dataframe\">\n",
       "  <thead>\n",
       "    <tr style=\"text-align: right;\">\n",
       "      <th></th>\n",
       "      <th>acc</th>\n",
       "      <th>loss</th>\n",
       "      <th>ckp_path</th>\n",
       "    </tr>\n",
       "  </thead>\n",
       "  <tbody>\n",
       "    <tr>\n",
       "      <th>0</th>\n",
       "      <td>0.6124</td>\n",
       "      <td>1.125507</td>\n",
       "      <td>./logs/simplecnn_0.06/method1/KD_student_alpha...</td>\n",
       "    </tr>\n",
       "    <tr>\n",
       "      <th>1</th>\n",
       "      <td>0.6152</td>\n",
       "      <td>1.117879</td>\n",
       "      <td>./logs/simplecnn_0.03/method1/KD_student_alpha...</td>\n",
       "    </tr>\n",
       "    <tr>\n",
       "      <th>2</th>\n",
       "      <td>0.6074</td>\n",
       "      <td>1.154185</td>\n",
       "      <td>./logs/simplecnn_0.09/method1/KD_student_alpha...</td>\n",
       "    </tr>\n",
       "    <tr>\n",
       "      <th>3</th>\n",
       "      <td>0.6083</td>\n",
       "      <td>1.134483</td>\n",
       "      <td>./logs/simplecnn_0.07/method1/KD_student_alpha...</td>\n",
       "    </tr>\n",
       "    <tr>\n",
       "      <th>4</th>\n",
       "      <td>0.6102</td>\n",
       "      <td>1.122326</td>\n",
       "      <td>./logs/simplecnn_0.02/method1/KD_student_alpha...</td>\n",
       "    </tr>\n",
       "    <tr>\n",
       "      <th>5</th>\n",
       "      <td>0.6151</td>\n",
       "      <td>1.120879</td>\n",
       "      <td>./logs/simplecnn_0.05/method1/KD_student_alpha...</td>\n",
       "    </tr>\n",
       "    <tr>\n",
       "      <th>6</th>\n",
       "      <td>0.6094</td>\n",
       "      <td>1.140904</td>\n",
       "      <td>./logs/simplecnn_0.08/method1/KD_student_alpha...</td>\n",
       "    </tr>\n",
       "    <tr>\n",
       "      <th>7</th>\n",
       "      <td>0.6126</td>\n",
       "      <td>1.118564</td>\n",
       "      <td>./logs/simplecnn_0.04/method1/KD_student_alpha...</td>\n",
       "    </tr>\n",
       "    <tr>\n",
       "      <th>8</th>\n",
       "      <td>0.5988</td>\n",
       "      <td>1.152616</td>\n",
       "      <td>./logs/simplecnn_0.01/method1/KD_student_alpha...</td>\n",
       "    </tr>\n",
       "    <tr>\n",
       "      <th>9</th>\n",
       "      <td>0.6216</td>\n",
       "      <td>1.112639</td>\n",
       "      <td>soup</td>\n",
       "    </tr>\n",
       "  </tbody>\n",
       "</table>\n",
       "</div>"
      ],
      "text/plain": [
       "      acc      loss                                           ckp_path\n",
       "0  0.6124  1.125507  ./logs/simplecnn_0.06/method1/KD_student_alpha...\n",
       "1  0.6152  1.117879  ./logs/simplecnn_0.03/method1/KD_student_alpha...\n",
       "2  0.6074  1.154185  ./logs/simplecnn_0.09/method1/KD_student_alpha...\n",
       "3  0.6083  1.134483  ./logs/simplecnn_0.07/method1/KD_student_alpha...\n",
       "4  0.6102  1.122326  ./logs/simplecnn_0.02/method1/KD_student_alpha...\n",
       "5  0.6151  1.120879  ./logs/simplecnn_0.05/method1/KD_student_alpha...\n",
       "6  0.6094  1.140904  ./logs/simplecnn_0.08/method1/KD_student_alpha...\n",
       "7  0.6126  1.118564  ./logs/simplecnn_0.04/method1/KD_student_alpha...\n",
       "8  0.5988  1.152616  ./logs/simplecnn_0.01/method1/KD_student_alpha...\n",
       "9  0.6216  1.112639                                               soup"
      ]
     },
     "execution_count": 31,
     "metadata": {},
     "output_type": "execute_result"
    }
   ],
   "source": [
    "simpleCNN_df = pd.DataFrame({'acc':acc_list, 'loss':loss_list, 'ckp_path':ckp_list})\n",
    "simpleCNN_df "
   ]
  },
  {
   "cell_type": "code",
   "execution_count": 32,
   "metadata": {},
   "outputs": [],
   "source": [
    "simpleCNN_df.round(4).to_csv('simple-cnn-results.csv',index=False)"
   ]
  }
 ],
 "metadata": {
  "interpreter": {
   "hash": "fa591e11221661f1ecc8136da9d73cea554c23e0883e0d08381481ec0c2f8724"
  },
  "kernelspec": {
   "display_name": "Python 3.9.12 ('graduation')",
   "language": "python",
   "name": "python3"
  },
  "language_info": {
   "codemirror_mode": {
    "name": "ipython",
    "version": 3
   },
   "file_extension": ".py",
   "mimetype": "text/x-python",
   "name": "python",
   "nbconvert_exporter": "python",
   "pygments_lexer": "ipython3",
   "version": "3.9.12"
  },
  "orig_nbformat": 4
 },
 "nbformat": 4,
 "nbformat_minor": 2
}
